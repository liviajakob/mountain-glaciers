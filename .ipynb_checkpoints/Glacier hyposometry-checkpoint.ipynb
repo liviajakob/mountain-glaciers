{
 "cells": [
  {
   "cell_type": "code",
   "execution_count": 26,
   "metadata": {},
   "outputs": [],
   "source": [
    "from DataSets import *\n",
    "from matplotlib import pyplot as plt\n",
    "%matplotlib notebook\n",
    "\n",
    "from DataSets import *\n",
    "from MalardClient.MalardClient import MalardClient\n",
    "from MalardClient.DataSet import DataSet\n",
    "import pandas as pd\n",
    "import geopandas as gp\n",
    "# import rasterio\n",
    "# from rasterio.mask import mask\n",
    "# import geopandas as gpd\n",
    "# shapefile = gpd.read_file(\"extraction.shp\")\n",
    "# # extract the geometry in GeoJSON format\n",
    "# geoms = shapefile.geometry.values # list of shapely geometries\n",
    "# geometry = geoms[0] # shapely geometry\n",
    "# # transform to GeJSON format\n",
    "# from shapely.geometry import mapping\n",
    "# geoms = [mapping(geoms[0])]\n",
    "# # extract the raster values values within the polygon \n",
    "# with rasterio.open(\"raster.tif\") as src:\n",
    "#      out_image, out_transform = mask(src, geoms, crop=True)"
   ]
  },
  {
   "cell_type": "code",
   "execution_count": 8,
   "metadata": {},
   "outputs": [],
   "source": [
    "minX = 500000\n",
    "maxX = 600000\n",
    "minY = 0\n",
    "maxY = 100000\n",
    "raster = \"/data/puma1/scratch/mtngla/dems/HMA_TDX_Masked_SRTM_Merged_coreg_aea_clip.tif\"\n",
    "raster = RasterDataSet(raster)"
   ]
  },
  {
   "cell_type": "code",
   "execution_count": 11,
   "metadata": {},
   "outputs": [],
   "source": [
    "raster.cutToBbx(minX, maxX, minY, maxY)"
   ]
  },
  {
   "cell_type": "code",
   "execution_count": 14,
   "metadata": {},
   "outputs": [],
   "source": [
    "# values is now the elevations\n",
    "xy, values = raster.getCenterPoints()"
   ]
  },
  {
   "cell_type": "code",
   "execution_count": null,
   "metadata": {},
   "outputs": [],
   "source": []
  },
  {
   "cell_type": "code",
   "execution_count": 24,
   "metadata": {},
   "outputs": [],
   "source": [
    "client = MalardClient()\n",
    "parentDs = \"mtngla\"\n",
    "inputDataSet = \"ReadyHim2\"\n",
    "region = \"himalayas\"\n",
    "dataSet = DataSet(parentDs=parentDs, dataSet=inputDataSet, region=region)\n",
    "projection = client.getProjection(dataSet).proj4\n",
    "\n",
    "#bbx = client.boundingBox(dataSet)\n",
    "#minT = bbx.minT\n",
    "#maxT = bbx.maxT"
   ]
  },
  {
   "cell_type": "code",
   "execution_count": null,
   "metadata": {},
   "outputs": [],
   "source": []
  },
  {
   "cell_type": "code",
   "execution_count": 29,
   "metadata": {},
   "outputs": [],
   "source": [
    "points = PointDataSet(pd.DataFrame(zip(xy[0],xy[1],values), columns=['x', 'y', 'elev']),projection)"
   ]
  },
  {
   "cell_type": "code",
   "execution_count": 30,
   "metadata": {},
   "outputs": [],
   "source": [
    "geoPoints = points.asGeoDataSet()"
   ]
  },
  {
   "cell_type": "code",
   "execution_count": null,
   "metadata": {},
   "outputs": [],
   "source": [
    "# Apply masks\n",
    "maskDataSet = \"RGIv60\"\n",
    "geoPoints.applyMask(maskDataSet,'Glacier')"
   ]
  },
  {
   "cell_type": "code",
   "execution_count": null,
   "metadata": {},
   "outputs": [],
   "source": []
  },
  {
   "cell_type": "code",
   "execution_count": 21,
   "metadata": {},
   "outputs": [
    {
     "data": {
      "text/plain": [
       "(array([3.35100e+04, 4.09550e+04, 8.53030e+04, 3.32281e+05, 5.92279e+05,\n",
       "        1.15225e+05, 2.49280e+04, 7.17100e+03, 2.24700e+03, 4.22000e+02]),\n",
       " array([3584.78710938, 3900.32973633, 4215.87236328, 4531.41499023,\n",
       "        4846.95761719, 5162.50024414, 5478.04287109, 5793.58549805,\n",
       "        6109.128125  , 6424.67075195, 6740.21337891]),\n",
       " <a list of 10 Patch objects>)"
      ]
     },
     "execution_count": 21,
     "metadata": {},
     "output_type": "execute_result"
    },
    {
     "data": {
      "image/png": "[encoded data removed]",
      "text/plain": [
       "<Figure size 432x288 with 1 Axes>"
      ]
     },
     "metadata": {
      "needs_background": "light"
     },
     "output_type": "display_data"
    }
   ],
   "source": [
    "plt.hist(values, bins=10)"
   ]
  }
 ],
 "metadata": {
  "kernelspec": {
   "display_name": "Python 3",
   "language": "python",
   "name": "python3"
  },
  "language_info": {
   "codemirror_mode": {
    "name": "ipython",
    "version": 3
   },
   "file_extension": ".py",
   "mimetype": "text/x-python",
   "name": "python",
   "nbconvert_exporter": "python",
   "pygments_lexer": "ipython3",
   "version": "3.7.3"
  }
 },
 "nbformat": 4,
 "nbformat_minor": 2
}

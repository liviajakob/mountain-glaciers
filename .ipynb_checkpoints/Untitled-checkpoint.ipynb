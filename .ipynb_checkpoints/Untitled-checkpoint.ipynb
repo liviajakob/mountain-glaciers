{
 "cells": [
  {
   "cell_type": "code",
   "execution_count": 1,
   "metadata": {},
   "outputs": [],
   "source": [
    "%matplotlib notebook\n",
    "from DataSets import *\n",
    "from RegressionRun import *\n",
    "import matplotlib.pyplot as plt\n",
    "from pandas.io.json import json_normalize\n",
    "import seaborn as sns\n",
    "import scipy"
   ]
  },
  {
   "cell_type": "code",
   "execution_count": 2,
   "metadata": {},
   "outputs": [
    {
     "name": "stderr",
     "output_type": "stream",
     "text": [
      "14:41:09, MainThread 140544580958016: RegressionRun INFO Process started\n"
     ]
    }
   ],
   "source": [
    "reg = RegressionRun(notebook=True)\n",
    "# minT and maxT\n",
    "bbx = reg.client.boundingBox(reg.inputDataSet)"
   ]
  },
  {
   "cell_type": "code",
   "execution_count": 19,
   "metadata": {},
   "outputs": [
    {
     "data": {
      "text/plain": [
       "['cryotempo', 'jatest', 'mtngla', 'mtnglauat', 'test', 'test_ja']"
      ]
     },
     "execution_count": 19,
     "metadata": {},
     "output_type": "execute_result"
    }
   ],
   "source": [
    "reg.client.getParentDataSets()"
   ]
  },
  {
   "cell_type": "code",
   "execution_count": 25,
   "metadata": {},
   "outputs": [
    {
     "name": "stdout",
     "output_type": "stream",
     "text": [
      "iceland tdx\n",
      "himalayas tdx2\n",
      "himalayas tdxtest1\n",
      "himalayas testdataset4\n",
      "himalayas srtm\n",
      "himalayas ReadyHim1\n",
      "himalayas publishtest\n",
      "himalayas ReadyHim2\n",
      "himalayas Ready4-1\n",
      "alaska ADwithTDX\n",
      "himalayas tdx\n",
      "alaska ReadyData\n",
      "himalayas ReadyHim\n",
      "himalayas Ready1\n",
      "himalayas Ready4\n",
      "himalayas Ready5\n",
      "himalayas Test\n",
      "himalayas Ready7\n",
      "himalayas Ready8\n",
      "himalayas Ready2\n",
      "himalayas Ready3\n",
      "alaska ReadyDataAlaska2\n",
      "alaska Testdata\n",
      "alaska ReadyDataAlaska\n"
     ]
    }
   ],
   "source": [
    "t= reg.client.getDataSets('mtngla')\n",
    "for i in t:\n",
    "    print(i.region, i.dataSet)"
   ]
  },
  {
   "cell_type": "code",
   "execution_count": 18,
   "metadata": {},
   "outputs": [
    {
     "data": {
      "text/plain": [
       "'himalayas'"
      ]
     },
     "execution_count": 18,
     "metadata": {},
     "output_type": "execute_result"
    }
   ],
   "source": [
    "t[0].region"
   ]
  },
  {
   "cell_type": "code",
   "execution_count": 1,
   "metadata": {},
   "outputs": [],
   "source": [
    "import pymongo as p"
   ]
  },
  {
   "cell_type": "code",
   "execution_count": 7,
   "metadata": {},
   "outputs": [
    {
     "data": {
      "text/plain": [
       "0"
      ]
     },
     "execution_count": 7,
     "metadata": {},
     "output_type": "execute_result"
    }
   ],
   "source": [
    "client = p.MongoClient(\"mongodb://localhost:27018\" )\n",
    "db = client['mtngla']\n",
    "collection = db['swathDetails']\n",
    "swaths = collection.aggregate([ {\"$match\" : { \"$and\" : [{\"datasetName\" : {\"$eq\": \"tdx2\"}},{\"region\":{\"$eq\":\"himalayas\"}}] }},{\"$project\": {\"swathId\":1}} ])\n",
    "swaths.next()[\"swathId\"]\n",
    "#for s in swaths:\n",
    "#   print(s[\"swathId\"])"
   ]
  },
  {
   "cell_type": "code",
   "execution_count": null,
   "metadata": {},
   "outputs": [],
   "source": []
  }
 ],
 "metadata": {
  "kernelspec": {
   "display_name": "Python 3",
   "language": "python",
   "name": "python3"
  },
  "language_info": {
   "codemirror_mode": {
    "name": "ipython",
    "version": 3
   },
   "file_extension": ".py",
   "mimetype": "text/x-python",
   "name": "python",
   "nbconvert_exporter": "python",
   "pygments_lexer": "ipython3",
   "version": "3.7.3"
  }
 },
 "nbformat": 4,
 "nbformat_minor": 2
}
